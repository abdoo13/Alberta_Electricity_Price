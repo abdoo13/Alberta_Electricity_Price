{
  "cells": [
    {
      "cell_type": "markdown",
      "metadata": {
        "id": "RpTzg2LYfJ7o"
      },
      "source": [
        "## **1 - Importing Libraries & Utilities**\n",
        "\n"
      ]
    },
    {
      "cell_type": "code",
      "execution_count": 1,
      "metadata": {
        "id": "qDgoKyxUmwWt"
      },
      "outputs": [],
      "source": [
        "from google.colab import files\n",
        "import pandas as pd\n",
        "import numpy as np\n",
        "from IPython.display import clear_output\n",
        "from time import sleep, perf_counter\n",
        "from datetime import timedelta\n",
        "from google.colab import files\n",
        "import warnings\n",
        "warnings.filterwarnings('ignore')"
      ]
    },
    {
      "cell_type": "code",
      "execution_count": 2,
      "metadata": {
        "id": "ki_U6GdUHf2B"
      },
      "outputs": [],
      "source": [
        "from IPython.display import clear_output\n",
        "#!pip install selenium\n",
        "!pip install --upgrade selenium\n",
        "!apt-get update\n",
        "!apt-get install chromium chromium-driver\n",
        "clear_output()"
      ]
    },
    {
      "cell_type": "code",
      "execution_count": 3,
      "metadata": {
        "id": "6fITRajCrSkJ"
      },
      "outputs": [],
      "source": [
        "from selenium import webdriver\n",
        "from selenium.webdriver.support.ui import Select\n",
        "from selenium.webdriver.common.by import By\n",
        "import time\n",
        "# Define the proxy server\n",
        "PROXY = \"IpOfTheProxy:PORT\"\n",
        "\n",
        "def web_driver():\n",
        "    options = webdriver.ChromeOptions()\n",
        "    options.add_argument(\"--verbose\")\n",
        "    options.add_argument('--no-sandbox')\n",
        "    options.add_argument('--headless')\n",
        "    options.add_argument('--disable-gpu')\n",
        "    options.add_argument(\"--window-size=1920, 1200\")\n",
        "    options.add_argument('--disable-dev-shm-usage')\n",
        "    options.add_experimental_option(\"excludeSwitches\", [\"enable-automation\"])\n",
        "    options.add_experimental_option('useAutomationExtension', False)\n",
        "    #options.add_argument(\"--proxy-server=%s\" % PROXY)\n",
        "    driver = webdriver.Chrome(options=options)\n",
        "    #driver.set_page_load_timeout(20)\n",
        "    return driver\n",
        "#\n",
        "driver = web_driver()"
      ]
    },
    {
      "cell_type": "markdown",
      "metadata": {
        "id": "IAF0NPV0eSvV"
      },
      "source": [
        "## **2 - Canada's Provinces and Territories - Capital Cities**"
      ]
    },
    {
      "cell_type": "code",
      "execution_count": 4,
      "metadata": {
        "id": "lhicQw8rX6JO"
      },
      "outputs": [],
      "source": [
        "region_list = ['Newfoundland and Labrador', 'Prince Edward Island', 'Nova Scotia', 'New Brunswick', 'Quebec', 'Ontario', 'Manitoba', 'Saskatchewan', 'Alberta', 'British Columbia', 'Yukon', 'Northwest Territories', 'Nunavut']"
      ]
    },
    {
      "cell_type": "code",
      "execution_count": 5,
      "metadata": {
        "id": "p7gRVsapZPGi"
      },
      "outputs": [],
      "source": [
        "capitals_ = {}\n",
        "capitals_[region_list[0]] = \"saint-john/CYSJ\"\n",
        "capitals_[region_list[1]] = \"charlottetown/CYYG\"\n",
        "capitals_[region_list[2]] = \"halifax/CYHZ\"\n",
        "capitals_[region_list[3]] = \"fredericton/CYFC\"\n",
        "capitals_[region_list[4]] = \"quebec-city/CYQB\"\n",
        "capitals_[region_list[5]] = \"toronto/CYTZ\"\n",
        "capitals_[region_list[6]] = \"winnipeg/CYWG\"\n",
        "capitals_[region_list[7]] = \"regina/CYQR\"\n",
        "capitals_[region_list[8]] = \"edmonton/CYEG\"\n",
        "capitals_[region_list[9]] = \"victoria/CYWH\"\n",
        "capitals_[region_list[10]] = \"whitehorse/CYXY\"\n",
        "capitals_[region_list[11]] = \"yellowknife/CYZF\"\n",
        "capitals_[region_list[12]] = \"iqaluit/CYFB\"\n",
        "#capitals_"
      ]
    },
    {
      "cell_type": "markdown",
      "metadata": {
        "id": "A-PBpZgUeqa2"
      },
      "source": [
        "## **3 - Weather Data Scraping -  WeatherUnderground**"
      ]
    },
    {
      "cell_type": "markdown",
      "metadata": {
        "id": "Z-7YEJxy9h-g"
      },
      "source": [
        "### **3.1 - Function - Scrap Table from WeatherUnderground**"
      ]
    },
    {
      "cell_type": "code",
      "execution_count": 6,
      "metadata": {
        "id": "l3VUFj_A8fg6"
      },
      "outputs": [],
      "source": [
        "def get_table(place_, date_):\n",
        "  url_ = 'https://www.wunderground.com/history/monthly/ca/' + place_ +'/date/'+ date_\n",
        "  driver.get(url_)\n",
        "  time.sleep(10)\n",
        "  #\n",
        "  tables = driver.find_elements(By.TAG_NAME, value = \"table\")\n",
        "  list_ = [(date_ +'-' + day) for day in tables[2].text.split('\\n')[1:]]\n",
        "  header_ = ['Time', 'Temp_Max (°F)', 'Temp_Avg (°F)', 'Temp_Min (°F)', 'Hum_Max (%)', 'Hum_Avg (%)', 'Hum_Min (%)', 'Wind_Speed_Max (mph)', 'Wind_Speed_Avg (mph)', 'Wind_Speed_Min (mph)']\n",
        "  #\n",
        "  temp = pd.DataFrame(np.array([tables[3].text.split('\\n')[1:], tables[5].text.split('\\n')[1:], tables[6].text.split('\\n')[1:]]).T)\n",
        "  # Temperature: °F - Speed : mph\n",
        "  dd = pd.DataFrame(list_)\n",
        "  for j in range(0, temp.shape[1]):\n",
        "    dd = pd.concat([dd, temp.iloc[:,j].str.split(' ', expand = True)], axis = 1)\n",
        "  dd.columns = header_\n",
        "  return dd"
      ]
    },
    {
      "cell_type": "markdown",
      "metadata": {
        "id": "VZPMVsI_96rX"
      },
      "source": [
        "### **3.2 - Get Tables**"
      ]
    },
    {
      "cell_type": "code",
      "execution_count": 7,
      "metadata": {
        "colab": {
          "base_uri": "https://localhost:8080/"
        },
        "id": "A7NOkw2_-8M1",
        "outputId": "0e0fb98e-0605-4fea-fdae-f04b007dc051"
      },
      "outputs": [
        {
          "output_type": "stream",
          "name": "stdout",
          "text": [
            "1000\n"
          ]
        }
      ],
      "source": [
        "import sys\n",
        "print(sys.getrecursionlimit())"
      ]
    },
    {
      "cell_type": "code",
      "execution_count": 8,
      "metadata": {
        "id": "2UqFlBgI_AKF"
      },
      "outputs": [],
      "source": [
        "sys.setrecursionlimit(1500)"
      ]
    },
    {
      "cell_type": "code",
      "execution_count": null,
      "metadata": {
        "id": "Iw6APSw69PG8"
      },
      "outputs": [],
      "source": [
        "start_time = perf_counter()\n",
        "df = pd.DataFrame()\n",
        "for region_ in region_list[8:9]:                 #   [8] for Alberta\n",
        "  place_ = capitals_[region_]\n",
        "  start_date = '2004-12'\n",
        "  date_ = start_date\n",
        "  #\n",
        "  while date_ < '2024-01':\n",
        "    print(region_)\n",
        "    print(date_)#.split('-')[0])\n",
        "    temp = get_table(place_, date_)\n",
        "    temp = pd.concat([temp['Time'], pd.DataFrame([region_] * temp.shape[0], columns = ['Region']), temp.iloc[:,1:]], axis = 1)\n",
        "    date_ = str(np.datetime64(date_) + np.timedelta64(1, 'M'))\n",
        "    clear_output()\n",
        "    #\n",
        "    df = pd.concat([df, temp], axis = 0, ignore_index = True)\n",
        "    del temp\n",
        "    #\n",
        "  df['Time'] = pd.to_datetime(df['Time'])\n",
        "Duration_ =  (perf_counter() - start_time)/60\n",
        "print('Duration = ', np.round(Duration_, 1), 'mins' )"
      ]
    },
    {
      "cell_type": "code",
      "execution_count": null,
      "metadata": {
        "id": "C92GE9FmYty9"
      },
      "outputs": [],
      "source": [
        "df.to_excel('DSMP_Weather_Data_Alberta.xlsx', index = False, header = True, freeze_panes = (1, 0))\n",
        "files.download('DSMP_Weather_Data_Alberta.xlsx')"
      ]
    }
  ],
  "metadata": {
    "colab": {
      "collapsed_sections": [
        "IAF0NPV0eSvV"
      ],
      "provenance": []
    },
    "kernelspec": {
      "display_name": "Python 3",
      "name": "python3"
    },
    "language_info": {
      "name": "python"
    }
  },
  "nbformat": 4,
  "nbformat_minor": 0
}